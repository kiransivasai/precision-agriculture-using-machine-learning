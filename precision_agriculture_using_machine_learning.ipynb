{
 "cells": [
  {
   "cell_type": "markdown",
   "id": "f63c1b93",
   "metadata": {},
   "source": [
    "# Precision Agriculture using Machine Learning"
   ]
  },
  {
   "cell_type": "markdown",
   "id": "2b78a87b",
   "metadata": {},
   "source": [
    "### Importing modules"
   ]
  },
  {
   "cell_type": "code",
   "execution_count": 1,
   "id": "8c763b86",
   "metadata": {},
   "outputs": [],
   "source": [
    "import pandas as pd\n",
    "import pandas_profiling as pp\n",
    "import numpy as np\n",
    "import seaborn as sns\n",
    "import matplotlib.pyplot as plt\n",
    "import warnings\n",
    "import os\n",
    "import plotly.graph_objects as go\n",
    "import plotly.io as pio\n",
    "import pickle\n",
    "from sklearn.utils import resample\n",
    "\n",
    "from sklearn.metrics import accuracy_score, classification_report, confusion_matrix, auc, roc_curve\n",
    "\n",
    "from sklearn.model_selection import train_test_split, cross_val_score, KFold\n",
    "from sklearn.pipeline import Pipeline, make_pipeline\n",
    "\n",
    "from sklearn.model_selection import GridSearchCV\n",
    "\n",
    "from sklearn.feature_selection import RFE\n",
    "\n",
    "from sklearn.preprocessing import MinMaxScaler, StandardScaler, Normalizer, Binarizer, LabelEncoder\n",
    "\n",
    "from sklearn.discriminant_analysis import LinearDiscriminantAnalysis\n",
    "from sklearn.linear_model import LogisticRegression\n",
    "from sklearn.naive_bayes import GaussianNB\n",
    "from sklearn.svm import SVC\n",
    "from sklearn.neighbors import KNeighborsClassifier\n",
    "from sklearn.tree import DecisionTreeClassifier\n",
    "\n",
    "from sklearn.ensemble import RandomForestClassifier\n",
    "from sklearn.ensemble import BaggingClassifier\n",
    "from sklearn.ensemble import AdaBoostClassifier\n",
    "from sklearn.ensemble import GradientBoostingClassifier\n",
    "from sklearn.ensemble import ExtraTreesClassifier"
   ]
  },
  {
   "cell_type": "code",
   "execution_count": 2,
   "id": "b7943ad5",
   "metadata": {},
   "outputs": [],
   "source": [
    "warnings.filterwarnings('ignore')\n",
    "\n",
    "sns.set_style(\"whitegrid\", {'axes.grid' : False})\n",
    "pio.templates.default = \"plotly_dark\""
   ]
  },
  {
   "cell_type": "markdown",
   "id": "fc61ac11",
   "metadata": {},
   "source": [
    "### Analyze data"
   ]
  },
  {
   "cell_type": "code",
   "execution_count": 3,
   "id": "7785c229",
   "metadata": {},
   "outputs": [],
   "source": [
    "def explore_data(df):\n",
    "    print(\"Number of Instances and Attributes:\", df.shape)\n",
    "    print('\\n')\n",
    "    print('Dataset columns:',df.columns)\n",
    "    print('\\n')\n",
    "    print('Data types of each columns: ', df.info())"
   ]
  },
  {
   "cell_type": "markdown",
   "id": "ca0d0be3",
   "metadata": {},
   "source": [
    "### Checking and Removing Duplicate Values from data frame"
   ]
  },
  {
   "cell_type": "code",
   "execution_count": 4,
   "id": "9a14c27e",
   "metadata": {},
   "outputs": [],
   "source": [
    "def checking_removing_duplicates(df):\n",
    "    count_dups = df.duplicated().sum()\n",
    "    print(\"Number of Duplicates: \", count_dups)\n",
    "    if count_dups >= 1:\n",
    "        df.drop_duplicates(inplace=True)\n",
    "        print('Duplicate values removed!')\n",
    "    else:\n",
    "        print('No Duplicate values')"
   ]
  },
  {
   "cell_type": "markdown",
   "id": "9ebe7d6f",
   "metadata": {},
   "source": [
    "### Split training and testing data"
   ]
  },
  {
   "cell_type": "code",
   "execution_count": 5,
   "id": "1e18bc15",
   "metadata": {},
   "outputs": [],
   "source": [
    "def read_in_and_split_data(data, target):\n",
    "    X = data.drop(target, axis=1)\n",
    "    y = data[target]\n",
    "    X_train, X_test, y_train, y_test = train_test_split(X,y,test_size=0.2, random_state=0)\n",
    "    return X_train, X_test, y_train, y_test"
   ]
  },
  {
   "cell_type": "markdown",
   "id": "a08c52d5",
   "metadata": {},
   "source": [
    "### Checking Algorithms"
   ]
  },
  {
   "cell_type": "code",
   "execution_count": 6,
   "id": "05a9c853",
   "metadata": {},
   "outputs": [],
   "source": [
    "def GetModel():\n",
    "    Models = []\n",
    "    Models.append(('LR'   , LogisticRegression()))\n",
    "    Models.append(('LDA'  , LinearDiscriminantAnalysis()))\n",
    "    Models.append(('KNN'  , KNeighborsClassifier()))\n",
    "    Models.append(('CART' , DecisionTreeClassifier()))\n",
    "    Models.append(('NB'   , GaussianNB()))\n",
    "    Models.append(('SVM'  , SVC(probability=True)))\n",
    "    return Models\n",
    "\n",
    "def ensemblemodels():\n",
    "    ensembles = []\n",
    "    ensembles.append(('AB'   , AdaBoostClassifier()))\n",
    "    ensembles.append(('GBM'  , GradientBoostingClassifier()))\n",
    "    ensembles.append(('RF'   , RandomForestClassifier()))\n",
    "    ensembles.append(( 'Bagging' , BaggingClassifier()))\n",
    "    ensembles.append(('ET', ExtraTreesClassifier()))\n",
    "    return ensembles"
   ]
  },
  {
   "cell_type": "markdown",
   "id": "ba21c690",
   "metadata": {},
   "source": [
    "### Checking Normalized Models"
   ]
  },
  {
   "cell_type": "code",
   "execution_count": 7,
   "id": "9324b914",
   "metadata": {},
   "outputs": [],
   "source": [
    "def NormalizedModel(nameOfScaler):\n",
    "    \n",
    "    if nameOfScaler == 'standard':\n",
    "        scaler = StandardScaler()\n",
    "    elif nameOfScaler =='minmax':\n",
    "        scaler = MinMaxScaler()\n",
    "    elif nameOfScaler == 'normalizer':\n",
    "        scaler = Normalizer()\n",
    "    elif nameOfScaler == 'binarizer':\n",
    "        scaler = Binarizer()\n",
    "\n",
    "    pipelines = []\n",
    "    pipelines.append((nameOfScaler+'LR'  , Pipeline([('Scaler', scaler),('LR'  , LogisticRegression())])))\n",
    "    pipelines.append((nameOfScaler+'LDA' , Pipeline([('Scaler', scaler),('LDA' , LinearDiscriminantAnalysis())])))\n",
    "    pipelines.append((nameOfScaler+'KNN' , Pipeline([('Scaler', scaler),('KNN' , KNeighborsClassifier())])))\n",
    "    pipelines.append((nameOfScaler+'CART', Pipeline([('Scaler', scaler),('CART', DecisionTreeClassifier())])))\n",
    "    pipelines.append((nameOfScaler+'NB'  , Pipeline([('Scaler', scaler),('NB'  , GaussianNB())])))\n",
    "    pipelines.append((nameOfScaler+'SVM' , Pipeline([('Scaler', scaler),('SVM' , SVC())])))\n",
    "    pipelines.append((nameOfScaler+'AB'  , Pipeline([('Scaler', scaler),('AB'  , AdaBoostClassifier())])  ))\n",
    "    pipelines.append((nameOfScaler+'GBM' , Pipeline([('Scaler', scaler),('GMB' , GradientBoostingClassifier())])  ))\n",
    "    pipelines.append((nameOfScaler+'RF'  , Pipeline([('Scaler', scaler),('RF'  , RandomForestClassifier())])  ))\n",
    "    pipelines.append((nameOfScaler+'ET'  , Pipeline([('Scaler', scaler),('ET'  , ExtraTreesClassifier())])  ))\n",
    "\n",
    "    return pipelines"
   ]
  },
  {
   "cell_type": "markdown",
   "id": "a819b46a",
   "metadata": {},
   "source": [
    "### Training Model"
   ]
  },
  {
   "cell_type": "code",
   "execution_count": 8,
   "id": "6a68d375",
   "metadata": {},
   "outputs": [],
   "source": [
    "def fit_model(X_train, y_train,models):\n",
    "    num_folds = 10\n",
    "    scoring = 'accuracy'\n",
    "\n",
    "    results = []\n",
    "    names = []\n",
    "    for name, model in models:\n",
    "        kfold = KFold(n_splits=num_folds, shuffle=True, random_state=0)\n",
    "        cv_results = cross_val_score(model, X_train, y_train, cv=kfold, scoring=scoring)\n",
    "        results.append(cv_results)\n",
    "        names.append(name)\n",
    "        msg = \"%s: %f (%f)\" % (name, cv_results.mean(), cv_results.std())\n",
    "        print(msg)\n",
    "        \n",
    "    return names, results"
   ]
  },
  {
   "cell_type": "markdown",
   "id": "c008b65a",
   "metadata": {},
   "source": [
    "### Saving trained model"
   ]
  },
  {
   "cell_type": "code",
   "execution_count": 9,
   "id": "150fec46",
   "metadata": {},
   "outputs": [],
   "source": [
    "def save_model(model,filename):\n",
    "    pickle.dump(model, open(filename, 'wb'))"
   ]
  },
  {
   "cell_type": "markdown",
   "id": "543bf077",
   "metadata": {},
   "source": [
    "### Measuring performance of models"
   ]
  },
  {
   "cell_type": "code",
   "execution_count": 10,
   "id": "1b20d948",
   "metadata": {},
   "outputs": [],
   "source": [
    "def classification_metrics(model, conf_matrix):\n",
    "    print(f\"Training Accuracy Score: {model.score(X_train, y_train) * 100:.1f}%\")\n",
    "    print(f\"Validation Accuracy Score: {model.score(X_test, y_test) * 100:.1f}%\")\n",
    "    fig,ax = plt.subplots(figsize=(8,6))\n",
    "    sns.heatmap(pd.DataFrame(conf_matrix), annot = True, cmap = 'YlGnBu',fmt = 'g')\n",
    "    ax.xaxis.set_label_position('top')\n",
    "    plt.tight_layout()\n",
    "    plt.title('Confusion Matrix', fontsize=20, y=1.1)\n",
    "    plt.ylabel('Actual label', fontsize=15)\n",
    "    plt.xlabel('Predicted label', fontsize=15)\n",
    "    plt.show()\n",
    "    print(classification_report(y_test, y_pred))"
   ]
  },
  {
   "cell_type": "markdown",
   "id": "57bd5df7",
   "metadata": {},
   "source": [
    "### Data frame"
   ]
  },
  {
   "cell_type": "code",
   "execution_count": 11,
   "id": "ca6dcd37",
   "metadata": {},
   "outputs": [
    {
     "data": {
      "text/html": [
       "<div>\n",
       "<style scoped>\n",
       "    .dataframe tbody tr th:only-of-type {\n",
       "        vertical-align: middle;\n",
       "    }\n",
       "\n",
       "    .dataframe tbody tr th {\n",
       "        vertical-align: top;\n",
       "    }\n",
       "\n",
       "    .dataframe thead th {\n",
       "        text-align: right;\n",
       "    }\n",
       "</style>\n",
       "<table border=\"1\" class=\"dataframe\">\n",
       "  <thead>\n",
       "    <tr style=\"text-align: right;\">\n",
       "      <th></th>\n",
       "      <th>N</th>\n",
       "      <th>P</th>\n",
       "      <th>K</th>\n",
       "      <th>temperature</th>\n",
       "      <th>humidity</th>\n",
       "      <th>ph</th>\n",
       "      <th>rainfall</th>\n",
       "      <th>label</th>\n",
       "    </tr>\n",
       "  </thead>\n",
       "  <tbody>\n",
       "    <tr>\n",
       "      <th>0</th>\n",
       "      <td>90</td>\n",
       "      <td>42</td>\n",
       "      <td>43</td>\n",
       "      <td>20.879744</td>\n",
       "      <td>82.002744</td>\n",
       "      <td>6.502985</td>\n",
       "      <td>202.935536</td>\n",
       "      <td>rice</td>\n",
       "    </tr>\n",
       "    <tr>\n",
       "      <th>1</th>\n",
       "      <td>85</td>\n",
       "      <td>58</td>\n",
       "      <td>41</td>\n",
       "      <td>21.770462</td>\n",
       "      <td>80.319644</td>\n",
       "      <td>7.038096</td>\n",
       "      <td>226.655537</td>\n",
       "      <td>rice</td>\n",
       "    </tr>\n",
       "    <tr>\n",
       "      <th>2</th>\n",
       "      <td>60</td>\n",
       "      <td>55</td>\n",
       "      <td>44</td>\n",
       "      <td>23.004459</td>\n",
       "      <td>82.320763</td>\n",
       "      <td>7.840207</td>\n",
       "      <td>263.964248</td>\n",
       "      <td>rice</td>\n",
       "    </tr>\n",
       "    <tr>\n",
       "      <th>3</th>\n",
       "      <td>74</td>\n",
       "      <td>35</td>\n",
       "      <td>40</td>\n",
       "      <td>26.491096</td>\n",
       "      <td>80.158363</td>\n",
       "      <td>6.980401</td>\n",
       "      <td>242.864034</td>\n",
       "      <td>rice</td>\n",
       "    </tr>\n",
       "    <tr>\n",
       "      <th>4</th>\n",
       "      <td>78</td>\n",
       "      <td>42</td>\n",
       "      <td>42</td>\n",
       "      <td>20.130175</td>\n",
       "      <td>81.604873</td>\n",
       "      <td>7.628473</td>\n",
       "      <td>262.717340</td>\n",
       "      <td>rice</td>\n",
       "    </tr>\n",
       "  </tbody>\n",
       "</table>\n",
       "</div>"
      ],
      "text/plain": [
       "    N   P   K  temperature   humidity        ph    rainfall label\n",
       "0  90  42  43    20.879744  82.002744  6.502985  202.935536  rice\n",
       "1  85  58  41    21.770462  80.319644  7.038096  226.655537  rice\n",
       "2  60  55  44    23.004459  82.320763  7.840207  263.964248  rice\n",
       "3  74  35  40    26.491096  80.158363  6.980401  242.864034  rice\n",
       "4  78  42  42    20.130175  81.604873  7.628473  262.717340  rice"
      ]
     },
     "execution_count": 11,
     "metadata": {},
     "output_type": "execute_result"
    }
   ],
   "source": [
    "df = pd.read_csv('datasets/Crop_recommendation.csv')\n",
    "df.head()"
   ]
  },
  {
   "cell_type": "markdown",
   "id": "ae7bf4c2",
   "metadata": {},
   "source": [
    "### Data Analysis"
   ]
  },
  {
   "cell_type": "code",
   "execution_count": 12,
   "id": "c6cb48bd",
   "metadata": {},
   "outputs": [
    {
     "name": "stdout",
     "output_type": "stream",
     "text": [
      "Number of Instances and Attributes: (2200, 8)\n",
      "\n",
      "\n",
      "Dataset columns: Index(['N', 'P', 'K', 'temperature', 'humidity', 'ph', 'rainfall', 'label'], dtype='object')\n",
      "\n",
      "\n",
      "<class 'pandas.core.frame.DataFrame'>\n",
      "RangeIndex: 2200 entries, 0 to 2199\n",
      "Data columns (total 8 columns):\n",
      " #   Column       Non-Null Count  Dtype  \n",
      "---  ------       --------------  -----  \n",
      " 0   N            2200 non-null   int64  \n",
      " 1   P            2200 non-null   int64  \n",
      " 2   K            2200 non-null   int64  \n",
      " 3   temperature  2200 non-null   float64\n",
      " 4   humidity     2200 non-null   float64\n",
      " 5   ph           2200 non-null   float64\n",
      " 6   rainfall     2200 non-null   float64\n",
      " 7   label        2200 non-null   object \n",
      "dtypes: float64(4), int64(3), object(1)\n",
      "memory usage: 137.6+ KB\n",
      "Data types of each columns:  None\n"
     ]
    }
   ],
   "source": [
    "explore_data(df)"
   ]
  },
  {
   "cell_type": "markdown",
   "id": "640dac79",
   "metadata": {},
   "source": [
    "### Removing Duplicates"
   ]
  },
  {
   "cell_type": "code",
   "execution_count": 13,
   "id": "e381eea9",
   "metadata": {},
   "outputs": [
    {
     "name": "stdout",
     "output_type": "stream",
     "text": [
      "Number of Duplicates:  0\n",
      "No Duplicate values\n"
     ]
    }
   ],
   "source": [
    "checking_removing_duplicates(df)"
   ]
  },
  {
   "cell_type": "code",
   "execution_count": 14,
   "id": "4752c9da",
   "metadata": {},
   "outputs": [
    {
     "data": {
      "text/plain": [
       "N              0\n",
       "P              0\n",
       "K              0\n",
       "temperature    0\n",
       "humidity       0\n",
       "ph             0\n",
       "rainfall       0\n",
       "label          0\n",
       "dtype: int64"
      ]
     },
     "execution_count": 14,
     "metadata": {},
     "output_type": "execute_result"
    }
   ],
   "source": [
    "df.isna().sum()"
   ]
  },
  {
   "cell_type": "markdown",
   "id": "452a7b89",
   "metadata": {},
   "source": [
    "### Checking and removing Outliers"
   ]
  },
  {
   "cell_type": "code",
   "execution_count": 15,
   "id": "aff6f83d",
   "metadata": {},
   "outputs": [],
   "source": [
    "Q1 = df.quantile(0.25)\n",
    "Q3 = df.quantile(0.75)\n",
    "IQR = Q3 - Q1\n",
    "\n",
    "df_out = df[~((df < (Q1 - 1.5 * IQR)) |(df > (Q3 + 1.5 * IQR))).any(axis=1)]"
   ]
  },
  {
   "cell_type": "markdown",
   "id": "f21609e9",
   "metadata": {},
   "source": [
    "### Train model"
   ]
  },
  {
   "cell_type": "code",
   "execution_count": 16,
   "id": "b26f22bd",
   "metadata": {},
   "outputs": [
    {
     "name": "stdout",
     "output_type": "stream",
     "text": [
      "LR: 0.954545 (0.016855)\n",
      "LDA: 0.965909 (0.013203)\n",
      "KNN: 0.979545 (0.005207)\n",
      "CART: 0.984659 (0.012199)\n",
      "NB: 0.993750 (0.004720)\n",
      "SVM: 0.976705 (0.008214)\n"
     ]
    }
   ],
   "source": [
    "target ='label'\n",
    "X_train, X_test, y_train, y_test = read_in_and_split_data(df, target)\n",
    "\n",
    "models = GetModel()\n",
    "names,results = fit_model(X_train, y_train,models)"
   ]
  },
  {
   "cell_type": "markdown",
   "id": "82b19ac1",
   "metadata": {},
   "source": [
    "### Different Processing techniques"
   ]
  },
  {
   "cell_type": "markdown",
   "id": "af8b6aae",
   "metadata": {},
   "source": [
    "### Minmax"
   ]
  },
  {
   "cell_type": "code",
   "execution_count": 17,
   "id": "c32055e8",
   "metadata": {},
   "outputs": [
    {
     "name": "stdout",
     "output_type": "stream",
     "text": [
      "minmaxLR: 0.932955 (0.025763)\n",
      "minmaxLDA: 0.965909 (0.013203)\n",
      "minmaxKNN: 0.978409 (0.008351)\n",
      "minmaxCART: 0.985227 (0.010227)\n",
      "minmaxNB: 0.993750 (0.004720)\n",
      "minmaxSVM: 0.982955 (0.006723)\n",
      "minmaxAB: 0.135795 (0.036862)\n",
      "minmaxGBM: 0.988636 (0.005682)\n",
      "minmaxRF: 0.994318 (0.004401)\n",
      "minmaxET: 0.993182 (0.006120)\n"
     ]
    }
   ],
   "source": [
    "ScaledModel = NormalizedModel('minmax')\n",
    "name,results = fit_model(X_train, y_train, ScaledModel)"
   ]
  },
  {
   "cell_type": "markdown",
   "id": "b45fcf13",
   "metadata": {},
   "source": [
    "### Standard"
   ]
  },
  {
   "cell_type": "code",
   "execution_count": 18,
   "id": "f473533c",
   "metadata": {},
   "outputs": [
    {
     "name": "stdout",
     "output_type": "stream",
     "text": [
      "standardLR: 0.969886 (0.014827)\n",
      "standardLDA: 0.965909 (0.013203)\n",
      "standardKNN: 0.968750 (0.011149)\n",
      "standardCART: 0.982955 (0.011644)\n",
      "standardNB: 0.993750 (0.004720)\n",
      "standardSVM: 0.982386 (0.008966)\n",
      "standardAB: 0.141477 (0.036510)\n",
      "standardGBM: 0.988636 (0.005682)\n",
      "standardRF: 0.993750 (0.003977)\n",
      "standardET: 0.992045 (0.005207)\n"
     ]
    }
   ],
   "source": [
    "ScaledModel = NormalizedModel('standard')\n",
    "name,results = fit_model(X_train, y_train, ScaledModel)"
   ]
  },
  {
   "cell_type": "markdown",
   "id": "e222c231",
   "metadata": {},
   "source": [
    "### Normalizer"
   ]
  },
  {
   "cell_type": "code",
   "execution_count": 19,
   "id": "6efe1495",
   "metadata": {},
   "outputs": [
    {
     "name": "stdout",
     "output_type": "stream",
     "text": [
      "normalizerLR: 0.853409 (0.024871)\n",
      "normalizerLDA: 0.934659 (0.012768)\n",
      "normalizerKNN: 0.944318 (0.015622)\n",
      "normalizerCART: 0.932955 (0.014329)\n",
      "normalizerNB: 0.956250 (0.011090)\n",
      "normalizerSVM: 0.951705 (0.012768)\n",
      "normalizerAB: 0.152841 (0.033465)\n",
      "normalizerGBM: 0.950000 (0.013636)\n",
      "normalizerRF: 0.973295 (0.007644)\n",
      "normalizerET: 0.978409 (0.008351)\n"
     ]
    }
   ],
   "source": [
    "ScaledModel = NormalizedModel('normalizer')\n",
    "name,results = fit_model(X_train, y_train, ScaledModel)"
   ]
  },
  {
   "cell_type": "markdown",
   "id": "d6f31071",
   "metadata": {},
   "source": [
    "### Performance Evaluation"
   ]
  },
  {
   "cell_type": "code",
   "execution_count": 20,
   "id": "fa3237e1",
   "metadata": {},
   "outputs": [
    {
     "name": "stdout",
     "output_type": "stream",
     "text": [
      "Training Accuracy Score: 99.5%\n",
      "Validation Accuracy Score: 99.3%\n"
     ]
    },
    {
     "data": {
      "image/png": "[encoded data removed]",
      "text/plain": [
       "<Figure size 576x432 with 2 Axes>"
      ]
     },
     "metadata": {},
     "output_type": "display_data"
    },
    {
     "name": "stdout",
     "output_type": "stream",
     "text": [
      "              precision    recall  f1-score   support\n",
      "\n",
      "       apple       1.00      1.00      1.00        18\n",
      "      banana       1.00      1.00      1.00        18\n",
      "   blackgram       1.00      1.00      1.00        22\n",
      "    chickpea       1.00      1.00      1.00        23\n",
      "     coconut       1.00      1.00      1.00        15\n",
      "      coffee       1.00      1.00      1.00        17\n",
      "      cotton       1.00      1.00      1.00        16\n",
      "      grapes       1.00      1.00      1.00        18\n",
      "        jute       0.88      1.00      0.93        21\n",
      " kidneybeans       1.00      1.00      1.00        20\n",
      "      lentil       1.00      1.00      1.00        17\n",
      "       maize       1.00      1.00      1.00        18\n",
      "       mango       1.00      1.00      1.00        21\n",
      "   mothbeans       1.00      1.00      1.00        25\n",
      "    mungbean       1.00      1.00      1.00        17\n",
      "   muskmelon       1.00      1.00      1.00        23\n",
      "      orange       1.00      1.00      1.00        23\n",
      "      papaya       1.00      1.00      1.00        21\n",
      "  pigeonpeas       1.00      1.00      1.00        22\n",
      " pomegranate       1.00      1.00      1.00        23\n",
      "        rice       1.00      0.88      0.94        25\n",
      "  watermelon       1.00      1.00      1.00        17\n",
      "\n",
      "    accuracy                           0.99       440\n",
      "   macro avg       0.99      0.99      0.99       440\n",
      "weighted avg       0.99      0.99      0.99       440\n",
      "\n"
     ]
    }
   ],
   "source": [
    "pipeline = make_pipeline(MinMaxScaler(),  GaussianNB())\n",
    "model = pipeline.fit(X_train, y_train)\n",
    "y_pred = model.predict(X_test)\n",
    "conf_matrix = confusion_matrix(y_test,y_pred)\n",
    "classification_metrics(pipeline, conf_matrix)"
   ]
  },
  {
   "cell_type": "markdown",
   "id": "ae45d35e",
   "metadata": {},
   "source": [
    "### Saving Model"
   ]
  },
  {
   "cell_type": "code",
   "execution_count": 21,
   "id": "6d614014",
   "metadata": {},
   "outputs": [],
   "source": [
    "save_model(model, 'model.pkl')"
   ]
  },
  {
   "cell_type": "markdown",
   "id": "1ba7ba96",
   "metadata": {},
   "source": [
    "### Predicting Unseen Data"
   ]
  },
  {
   "cell_type": "code",
   "execution_count": 30,
   "id": "b5e7989e",
   "metadata": {},
   "outputs": [
    {
     "data": {
      "text/plain": [
       "'Pigeonpeas'"
      ]
     },
     "execution_count": 30,
     "metadata": {},
     "output_type": "execute_result"
    }
   ],
   "source": [
    "N = 10\n",
    "P = 12\n",
    "K = 10\n",
    "temperature = 40\n",
    "humidity = 82\n",
    "ph = 5\n",
    "rainfall = 200\n",
    "\n",
    "sample = [N, P, K, temperature, humidity, ph, rainfall]\n",
    "single_sample = np.array(sample).reshape(1,-1)\n",
    "pred = model.predict(single_sample)\n",
    "pred.item().title()"
   ]
  },
  {
   "cell_type": "code",
   "execution_count": null,
   "id": "160e51aa",
   "metadata": {},
   "outputs": [],
   "source": []
  }
 ],
 "metadata": {
  "kernelspec": {
   "display_name": "Python 3",
   "language": "python",
   "name": "python3"
  },
  "language_info": {
   "codemirror_mode": {
    "name": "ipython",
    "version": 3
   },
   "file_extension": ".py",
   "mimetype": "text/x-python",
   "name": "python",
   "nbconvert_exporter": "python",
   "pygments_lexer": "ipython3",
   "version": "3.7.6"
  }
 },
 "nbformat": 4,
 "nbformat_minor": 5
}
